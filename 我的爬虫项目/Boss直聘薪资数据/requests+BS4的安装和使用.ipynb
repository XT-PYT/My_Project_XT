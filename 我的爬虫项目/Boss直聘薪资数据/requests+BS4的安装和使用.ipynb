{
 "cells": [
  {
   "cell_type": "code",
   "execution_count": null,
   "metadata": {},
   "outputs": [],
   "source": [
    "import requests\n",
    "header={'user-agent':'123'}\n",
    "r=requests.get('https://www.baidu.com',headers=header)\n",
    "print (r.status_code)\n",
    "#HTTP请求中的headers\n",
    "print (r.headers)\n",
    "#从header中猜测的响应的内容编码方式 \n",
    "print (r.encoding)\n",
    "#从内容中分析的编码方式（慢）\n",
    "print (r.apparent_encoding)\n",
    "#响应内容的二进制形式\n",
    "print (r.content)\n"
   ]
  },
  {
   "cell_type": "code",
   "execution_count": null,
   "metadata": {},
   "outputs": [],
   "source": [
    "import requests\n",
    "def getHtmlText(url):\n",
    "    try:\n",
    "        r=requests.get(url,timeout=30)\n",
    "        r.raise_for_status()\n",
    "        r.encoding=r.apparent_encoding\n",
    "        return r.text\n",
    "    except:\n",
    "        return \"something wrong\"\n",
    "\n",
    "print(getHtmlText('www.baidu.com'))\n"
   ]
  },
  {
   "cell_type": "code",
   "execution_count": 8,
   "metadata": {},
   "outputs": [
    {
     "name": "stdout",
     "output_type": "stream",
     "text": [
      "所有网页已经下载到本地！开始筛选信息......\n",
      "当前页面爬取完成\n",
      "当前页面爬取完成\n",
      "当前页面爬取完成\n",
      "所有的信息都已经保存完毕。\n"
     ]
    }
   ],
   "source": [
    "#爬虫实践-获取百度贴吧内容\n",
    "#生活大爆炸贴吧地址：http://tieba.baidu.com/f?kw=%E7%94%9F%E6%B4%BB%E5%A4%A7%E7%88%86%E7%82%B8&ie=utf-8\n",
    "\n",
    "from urllib.request import urlopen\n",
    "import time\n",
    "from bs4 import BeautifulSoup\n",
    "\n",
    "def get_html(url):\n",
    "    try:\n",
    "        r=urlopen(url,timeout=30)\n",
    "        r.raise_for_status()\n",
    "        r.encoding='utf-8'\n",
    "        return r.read()\n",
    "    except:\n",
    "        return \"error\"\n",
    "\n",
    "def get_content(url):\n",
    "    comments=[]\n",
    "    html=get_html(url)\n",
    "    soup=BeautifulSoup(html,'lxml')\n",
    "    liTags = soup.find_all('li', attrs={'class': 'j_thread_list clearfix'})\n",
    "    for li in liTags:\n",
    "        comment={}\n",
    "        try:\n",
    "            comment['title'] = li.find('a', class_='j_th_tit').string\n",
    "            comment['link'] = 'http://tieba.baidu.com' + li.find('a', class_='j_th_tit').get('href')\n",
    "            comment['name'] = li.find('a', class_='frs-author-name').string\n",
    "            comment['time'] = li.find('span', class_='is_show_create_time').string\n",
    "            comment['replyNum'] = li.find('span', class_='threadlist_rep_num').string\n",
    "            comments.append(comment)\n",
    "        except:\n",
    "            print('出了点问题')\n",
    "    return comments\n",
    "\n",
    "def Out2File(dict):\n",
    "    with open('TTBT.txt','a+') as f:#打开一个文件用于读写。如果该文件已存在，文件指针将会放在文件的结尾。\n",
    "    #文件打开时会是追加模式。如果该文件不存在，创建新文件用于读写。\n",
    "        for comment in dict:\n",
    "            f.write('标题： {} \\t 链接：{} \\t 发帖人：{} \\t 发帖时间：{} \\t 回复数量： {} \\n'.format(\n",
    "                comment['title'], comment['link'], comment['name'], comment['time'], comment['replyNum']))\n",
    "        print('当前页面爬取完成')\n",
    "    \n",
    "def main(base_url,deep):\n",
    "    url_list=[]\n",
    "    for i in range(0,deep):\n",
    "        url_list.append(base_url+'&pn='+str(50*i))\n",
    "    print('所有网页已经下载到本地！开始筛选信息......')\n",
    "    \n",
    "    for url in url_list:\n",
    "        content=get_content(url)\n",
    "        Out2File(content)\n",
    "    print('所有的信息都已经保存完毕。')\n",
    "\n",
    "base_url='http://tieba.baidu.com/f?kw=%E7%94%9F%E6%B4%BB%E5%A4%A7%E7%88%86%E7%82%B8&ie=utf-8'\n",
    "deep=3\n",
    "\n",
    "if __name__=='__main__':\n",
    "    main(base_url,deep)\n",
    "        "
   ]
  },
  {
   "cell_type": "code",
   "execution_count": null,
   "metadata": {},
   "outputs": [],
   "source": []
  },
  {
   "cell_type": "code",
   "execution_count": null,
   "metadata": {},
   "outputs": [],
   "source": []
  }
 ],
 "metadata": {
  "kernelspec": {
   "display_name": "Python 3",
   "language": "python",
   "name": "python3"
  },
  "language_info": {
   "codemirror_mode": {
    "name": "ipython",
    "version": 3
   },
   "file_extension": ".py",
   "mimetype": "text/x-python",
   "name": "python",
   "nbconvert_exporter": "python",
   "pygments_lexer": "ipython3",
   "version": "3.7.6"
  }
 },
 "nbformat": 4,
 "nbformat_minor": 4
}
