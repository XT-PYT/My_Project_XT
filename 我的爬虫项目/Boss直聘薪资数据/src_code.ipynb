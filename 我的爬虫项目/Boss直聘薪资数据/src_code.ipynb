{
 "cells": [
  {
   "cell_type": "code",
   "execution_count": 1,
   "metadata": {},
   "outputs": [
    {
     "ename": "IndentationError",
     "evalue": "expected an indented block (<ipython-input-1-484dfdb7ccf8>, line 15)",
     "output_type": "error",
     "traceback": [
      "\u001b[1;36m  File \u001b[1;32m\"<ipython-input-1-484dfdb7ccf8>\"\u001b[1;36m, line \u001b[1;32m15\u001b[0m\n\u001b[1;33m    page_headers = {\u001b[0m\n\u001b[1;37m               ^\u001b[0m\n\u001b[1;31mIndentationError\u001b[0m\u001b[1;31m:\u001b[0m expected an indented block\n"
     ]
    }
   ],
   "source": [
    "#! -*-coding:utf-8 -*-\n",
    "from urllib import request, parse\n",
    "from bs4 import BeautifulSoup as BS\n",
    "import json\n",
    "import datetime\n",
    "import xlsxwriter\n",
    "starttime = datetime.datetime.now()\n",
    "url = r'http://www.lagou.com/jobs/positionAjax.json?city=%E5%8C%97%E4%BA%AC'# 拉钩网的招聘信息都是动态获取的，所以需要通过post来递交json信息，默认城市为北京\n",
    "tag = ['companyName', 'companyShortName', 'positionName', 'education', 'salary',\n",
    "'financeStage', 'companySize',\n",
    "'industryField', 'companyLabelList'] # 这是需要抓取的标签信息，包括公司名称，学历要求，薪资等等\n",
    "tag_name = ['公司名称', '公司简称', '职位名称', '所需学历', '工资',\n",
    "'公司资质', '公司规模', '所属类别', '公司介绍']\n",
    "def read_page(url, page_num, keyword):\n",
    "page_headers = {\n",
    "'Host': 'www.lagou.com',\n",
    "'User-Agent': 'Mozilla/5.0 (Windows NT 6.1; WOW64) AppleWebKit/537.36 (KHTML, like Gecko) ' 'Chrome/45.0.2454.85 Safari/537.36 115Browser/6.0.3',\n",
    "'Connection': 'keep-alive' }\n",
    "if page_num == 1:\n",
    "boo = 'true'\n",
    "else:\n",
    "boo = 'false'\n",
    "page_data = parse.urlencode([ # 通过页面分析，发现浏览器提交的FormData包括以下参数\n",
    "('first', boo),\n",
    "('pn', page_num),\n",
    "('kd', keyword) ])\n",
    "req = request.Request(url, headers=page_headers)\n",
    "page = request.urlopen(req, data=page_data.encode('utf-8')).read()\n",
    "page = page.decode('utf-8')\n",
    "return page\n",
    "def read_tag(page, tag):\n",
    "page_json = json.loads(page)\n",
    "page_json = page_json['content']['result'] # 通过分析获取的json信息可知，招聘信息包含在返回的result当中，其中包含了许多其他参数\n",
    "page_result = [num for num in range(15)] # 构造一个容量为15的list占位，用以构造接下来的二维数组\n",
    "for i in range(15):\n",
    "page_result[i] = [] # 构造二维数组\n",
    "for page_tag in tag:\n",
    "page_result[i].append(page_json[i].get(page_tag)) # 遍历参数，将它们放置在同一个list当中\n",
    "page_result[i][8] = ','.join(page_result[i][8])\n",
    "return page_result # 返回当前页的招聘信息\n",
    "def read_max_page(page): # 获取当前招聘关键词的最大页数，大于30的将会被覆盖，所以最多只能抓取30页的招聘信息\n",
    "page_json = json.loads(page)\n",
    "max_page_num = page_json['content']['totalPageCount']\n",
    "if max_page_num > 30:\n",
    "\n",
    "max_page_num = 30\n",
    "return max_page_num\n",
    "def save_excel(fin_result, tag_name, file_name): # 将抓取到的招聘信息存储到excel当中\n",
    "book = xlsxwriter.Workbook(r'C:\\Users\\Administrator\\Desktop\\%s.xls' % file_name) # 默认存储在桌面上\n",
    "tmp = book.add_worksheet()\n",
    "row_num = len(fin_result)\n",
    "for i in range(1, row_num):\n",
    "if i == 1:\n",
    "\n",
    "tag_pos = 'A%s' % i\n",
    "tmp.write_row(tag_pos, tag_name)\n",
    "else:\n",
    "con_pos = 'A%s' % i\n",
    "content = fin_result[i-1] # -1是因为被表格的表头所占\n",
    "tmp.write_row(con_pos, content)\n",
    "book.close()\n",
    "if __name__ == '__main__':\n",
    "print('**********************************即将进行抓取**********************************')\n",
    "keyword = input('请输入您要搜索的语言类型：')\n",
    "fin_result = [] # 将每页的招聘信息汇总成一个最终的招聘信息\n",
    "max_page_num = read_max_page(read_page(url, 1, keyword))\n",
    "for page_num in range(1, max_page_num):\n",
    "print('******************************正在下载第%s页内容*********************************' % page_num)\n",
    "page = read_page(url, page_num, keyword)\n",
    "page_result = read_tag(page, tag)\n",
    "fin_result.extend(page_result)\n",
    "file_name = input('抓取完成，输入文件名保存：')\n",
    "save_excel(fin_result, tag_name, file_name)\n",
    "endtime = datetime.datetime.now()\n",
    "time = (endtime - starttime).seconds\n",
    "print('总共用时：%s s' % time)"
   ]
  },
  {
   "cell_type": "code",
   "execution_count": null,
   "metadata": {},
   "outputs": [],
   "source": []
  }
 ],
 "metadata": {
  "kernelspec": {
   "display_name": "Python 3",
   "language": "python",
   "name": "python3"
  },
  "language_info": {
   "codemirror_mode": {
    "name": "ipython",
    "version": 3
   },
   "file_extension": ".py",
   "mimetype": "text/x-python",
   "name": "python",
   "nbconvert_exporter": "python",
   "pygments_lexer": "ipython3",
   "version": "3.7.6"
  }
 },
 "nbformat": 4,
 "nbformat_minor": 4
}
